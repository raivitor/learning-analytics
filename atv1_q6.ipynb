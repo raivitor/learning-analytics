{
 "cells": [
  {
   "cell_type": "code",
   "execution_count": 128,
   "metadata": {
    "collapsed": true
   },
   "outputs": [],
   "source": [
    "import pandas as pd\n",
    "import matplotlib.pyplot as plt\n",
    "from sklearn import linear_model\n",
    "from scipy.stats import pearsonr\n",
    "%matplotlib inline"
   ]
  },
  {
   "cell_type": "code",
   "execution_count": 129,
   "metadata": {},
   "outputs": [],
   "source": [
    "dataframe = pd.read_csv('http://dados.ufrn.br/dataset/a8b897f9-4659-44d4-842e-ac70ae21eb83/resource/067e7cad-934c-4134-a5d5-807915c074b4/download/obras.csv', sep=';', error_bad_lines=False)"
   ]
  },
  {
   "cell_type": "code",
   "execution_count": 130,
   "metadata": {},
   "outputs": [],
   "source": [
    "# preparação dos dados\n",
    "dfValor = dataframe['valor'].str.split(expand=True)[1]\n",
    "dfValor = dfValor.str.split(\",\",expand=True)[0]\n",
    "dfValor = dfValor.str.replace(\".\", \"\")\n",
    "dfValor = pd.to_numeric(dfValor, downcast =\"integer\")\n",
    "dataframe['valor'] = dfValor"
   ]
  },
  {
   "cell_type": "markdown",
   "metadata": {},
   "source": [
    "## Obras\n",
    "Foi aplicado a função **pearsonr** para calcular o coeficiente de correlação do valor do projeto em relação a quantidade de dias em que a obra é feita.<br>\n",
    "O coeficiente foi elevado ao quadrado para extrair o coeficiente de determinação e multiplicado por 100 para ter uma melhor visualização.\n",
    "\n",
    "### A escala do coeficiente vai de 0 a 100, este ficou com 16.7, então mostra que a relação entre o valor de uma obra com a quantidade de dias em que ela fica pronta é muito baixa ou inexistente.\n",
    "\n",
    "base de dados: http://dados.ufrn.br/dataset/obras"
   ]
  },
  {
   "cell_type": "code",
   "execution_count": 131,
   "metadata": {},
   "outputs": [
    {
     "name": "stdout",
     "output_type": "stream",
     "text": [
      "coeficiente de determinação = 16.749312148\n"
     ]
    },
    {
     "data": {
      "image/png": "[encoded data removed]",
      "text/plain": [
       "<matplotlib.figure.Figure at 0x197af5c2128>"
      ]
     },
     "metadata": {},
     "output_type": "display_data"
    }
   ],
   "source": [
    "cof_det = (pearsonr(dataframe['valor'], dataframe['qtd_dias'])[0]**2)*100\n",
    "print(\"coeficiente de determinação =\", cof_det)\n",
    "\n",
    "x_values = dataframe[['valor']]\n",
    "y_values = dataframe[['qtd_dias']]\n",
    "\n",
    "#train model on data\n",
    "body_reg = linear_model.LinearRegression()\n",
    "body_reg.fit(x_values, y_values)\n",
    "\n",
    "#visualize results\n",
    "plt.scatter(x_values, y_values)\n",
    "plt.plot(x_values, body_reg.predict(x_values))\n",
    "plt.show()"
   ]
  },
  {
   "cell_type": "markdown",
   "metadata": {},
   "source": [
    "## PRODUTOS DE EXTENSÃO\n",
    "Foi aplicado a função **pearsonr** para calcular o coeficiente de correlação do valor do público estimado com a quantidade de discientes no projeto.<br>\n",
    "\n",
    "### A escala do coeficiente vai de 0 a 100, este ficou com 0.02, então mostra que a correlação entre a quantidade de discentes com o público que eles querem atigir é inexistente.\n",
    "Base de dados: http://dados.ufrn.br/dataset/produtos-de-extensao"
   ]
  },
  {
   "cell_type": "code",
   "execution_count": 132,
   "metadata": {},
   "outputs": [
    {
     "name": "stdout",
     "output_type": "stream",
     "text": [
      "coeficiente de determinação = 0.0194183490515\n"
     ]
    },
    {
     "data": {
      "image/png": "[encoded data removed]",
      "text/plain": [
       "<matplotlib.figure.Figure at 0x197aee01978>"
      ]
     },
     "metadata": {},
     "output_type": "display_data"
    }
   ],
   "source": [
    "dataframe = pd.read_csv('http://dados.ufrn.br/dataset/1898890f-b500-4bc3-afa0-2c4742aa4acf/resource/33aa79cf-52fb-4b29-897d-9f196731f8c0/download/produtos-de-extensao.csv', sep=';', error_bad_lines=False)\n",
    "cof_det = (pearsonr(dataframe['publico_estimado'], dataframe['quantidade_discente'])[0]**2)*100\n",
    "print(\"coeficiente de determinação =\", cof_det)\n",
    "\n",
    "x_values = dataframe[['publico_estimado']]\n",
    "y_values = dataframe[['quantidade_discente']]\n",
    "\n",
    "#train model on data\n",
    "body_reg = linear_model.LinearRegression()\n",
    "body_reg.fit(x_values, y_values)\n",
    "\n",
    "#visualize results\n",
    "plt.scatter(x_values, y_values)\n",
    "plt.plot(x_values, body_reg.predict(x_values))\n",
    "plt.show()"
   ]
  }
 ],
 "metadata": {
  "kernelspec": {
   "display_name": "Python 3",
   "language": "python",
   "name": "python3"
  },
  "language_info": {
   "codemirror_mode": {
    "name": "ipython",
    "version": 3
   },
   "file_extension": ".py",
   "mimetype": "text/x-python",
   "name": "python",
   "nbconvert_exporter": "python",
   "pygments_lexer": "ipython3",
   "version": "3.6.1"
  }
 },
 "nbformat": 4,
 "nbformat_minor": 2
}
