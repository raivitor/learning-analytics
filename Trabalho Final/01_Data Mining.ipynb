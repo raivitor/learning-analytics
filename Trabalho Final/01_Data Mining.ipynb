{
 "cells": [
  {
   "cell_type": "markdown",
   "metadata": {},
   "source": [
    "**Id:** 55031 **Nome:** RESOLUÇÃO DE PROBLEMAS MATEMÁTICOS PARA TI<br>\n",
    "**Id:** 52662 **Nome:** CÁLCULO DIFERENCIAL E INTEGRAL I<br>\n",
    "**Id:** 55022 **Nome:** FUNDAMENTOS MATEMÁTICOS DA COMPUTAÇÃO I<br>"
   ]
  },
  {
   "cell_type": "code",
   "execution_count": 2,
   "metadata": {
    "collapsed": true
   },
   "outputs": [],
   "source": [
    "import numpy as np\n",
    "import pandas as pd"
   ]
  },
  {
   "cell_type": "code",
   "execution_count": 3,
   "metadata": {
    "collapsed": true
   },
   "outputs": [],
   "source": [
    "#Função que insere 'vazio' no campo null. Sem isso os dataframes iram quebrar.\n",
    "def TratarDfVaziosProf(df):\n",
    "    if(df.empty):\n",
    "        df = pd.DataFrame()\n",
    "        df = df.append({'id_servidor':0, 'nome':'vazio', 'formacao':'vazio', 'tipo_jornada_trabalho':'vazio', 'vinculo':'vazio', 'classe_funcional':'vazio', 'lotacao': 'vazio'}, ignore_index=True)\n",
    "        return df\n",
    "    return df"
   ]
  },
  {
   "cell_type": "code",
   "execution_count": 4,
   "metadata": {
    "collapsed": true
   },
   "outputs": [],
   "source": [
    "pd_disc = pd.read_csv('disciplinas.csv')\n",
    "pd_docentes = pd.read_csv('docentes.csv', encoding = \"utf-8\", sep=\";\", usecols=['id_servidor', 'nome', 'formacao', 'tipo_jornada_trabalho', 'vinculo', 'lotacao'])\n",
    "all_turma_matriculados = pd.read_csv('all_turma_matriculados.csv', encoding = \"utf-8\", sep=\",\")"
   ]
  },
  {
   "cell_type": "code",
   "execution_count": 5,
   "metadata": {
    "collapsed": true
   },
   "outputs": [],
   "source": [
    "framesAux = []\n",
    "for index_turma, row_turma in all_turma_matriculados.iterrows():\n",
    "    pd_turmas = pd.read_csv(row_turma['csv_turma'], error_bad_lines = False, warn_bad_lines = False, encoding = \"utf-8\", sep=\";\", usecols=['id_turma', 'codigo_turma', 'id_docente_interno', 'id_componente_curricular', 'local', 'ano', 'periodo', 'descricao_horario', 'total_solicitacoes', 'capacidade_aluno', 'situacao_turma'])\n",
    "    framesInter = []\n",
    "    for index_pd_disc, row_pd_disc in pd_disc.iterrows():\n",
    "\n",
    "        id_disc = row_pd_disc['id_disc']\n",
    "        list_turmas = pd_turmas[pd_turmas['id_componente_curricular'] == id_disc] # filtra todas as turmas com o id da disciplina\n",
    "        list_turmas_disc = list_turmas.assign(nome_disc=row_pd_disc['nome_disc']) # add uma coluna com o nome da disciplina\n",
    "\n",
    "        listProf = []\n",
    "        for index, row in list_turmas_disc.iterrows():\n",
    "            prof = pd_docentes[pd_docentes['id_servidor'] == int(row[\"id_docente_interno\"])]\n",
    "            listProf.append(TratarDfVaziosProf(prof))\n",
    "\n",
    "        df_profs = pd.concat(listProf)\n",
    "        list_turmas_disc_prof = list_turmas_disc.assign(\n",
    "            nome_prof = df_profs['nome'].tolist(),\n",
    "            id_prof = df_profs['id_servidor'].tolist(),\n",
    "            formacao_prof = df_profs['formacao'].tolist(),\n",
    "            tipo_jornada_trabalho_prof = df_profs['tipo_jornada_trabalho'].tolist(),\n",
    "            vinculo_prof = df_profs['vinculo'].tolist(),\n",
    "            lotacao_prof = df_profs['lotacao'].tolist())\n",
    "        framesInter.append(list_turmas_disc_prof)\n",
    "    \n",
    "    df_turma_professorAux = pd.concat(framesInter) # concatena todos os dataframes\n",
    "    framesAux.append(df_turma_professorAux)\n",
    "    \n",
    "df_turma_professor = pd.concat(framesAux) \n",
    "df_turma_professor.to_csv('turma_professor.csv', encoding='UTF-8')"
   ]
  },
  {
   "cell_type": "code",
   "execution_count": 6,
   "metadata": {},
   "outputs": [
    {
     "ename": "SyntaxError",
     "evalue": "invalid syntax (<ipython-input-6-b5f1546831c2>, line 9)",
     "output_type": "error",
     "traceback": [
      "\u001b[1;36m  File \u001b[1;32m\"<ipython-input-6-b5f1546831c2>\"\u001b[1;36m, line \u001b[1;32m9\u001b[0m\n\u001b[1;33m    df_turma_professor[df_turma_professor['id_turma'] == ]\u001b[0m\n\u001b[1;37m                                                         ^\u001b[0m\n\u001b[1;31mSyntaxError\u001b[0m\u001b[1;31m:\u001b[0m invalid syntax\n"
     ]
    }
   ],
   "source": [
    "#url = 'http://dados.ufrn.br/dataset/c8650d55-3c5a-4787-a126-d28a4ef902a6/resource/79071c21-e32c-438f-b930-d1b6ccc02ec2/download/matricula-componente-20171.csv'\n",
    "#pd_alunos_2017_1 = pd.read_csv(url, encoding = \"utf-8\", sep=\";\")\n",
    "#pd_alunos_2017_1.head(3)\n",
    "\n",
    "frames = []\n",
    "for item in df_turma_professor:\n",
    "    turma = item['id_turma']\n",
    "    \n",
    "    df_turma_professor[df_turma_professor['id_turma'] == ]\n",
    "    df_alunos = 0\n",
    "    for index, row in all_turma_matriculados.iterrows():\n",
    "        pd_alunos = pd.read_csv(row['csv_matriculados'], encoding = \"utf-8\", sep=\";\")  \n",
    "        if(not pd_alunos[pd_alunos['id_turma'] == item].empty):\n",
    "            df_alunos = pd_alunos[pd_alunos['id_turma'] == item]\n",
    "            break\n",
    "    frames.append(df_alunos)\n",
    "    \n",
    "df_alunos = pd.concat(frames) # concatena todos os dataframes\n",
    "df_alunos.to_csv('alunos.csv', encoding='UTF-8')\n",
    "    "
   ]
  },
  {
   "cell_type": "code",
   "execution_count": null,
   "metadata": {},
   "outputs": [],
   "source": [
    "frames = []\n",
    "for item in df_turma_professor['id_turma'].unique():\n",
    "    df_alunos = pd_alunos_2017_1[pd_alunos_2017_1['id_turma'] == item]\n",
    "    frames.append(df_alunos)\n",
    "df_alunos = pd.concat(frames) # concatena todos os dataframes\n",
    "df_alunos.to_csv('alunos_2017_1.csv', encoding='UTF-8')\n",
    "#df_alunos.head(5)"
   ]
  },
  {
   "cell_type": "code",
   "execution_count": null,
   "metadata": {
    "collapsed": true
   },
   "outputs": [],
   "source": [
    "listMean = []\n",
    "listMin = []\n",
    "list1q = []\n",
    "list2q = []\n",
    "list3q = []\n",
    "listmax = []\n",
    "\n",
    "for turma in df_turma_professor_2017_1['id_turma']:\n",
    "    df_turma_alunos_3notas = df_alunos[df_alunos['id_turma'] == turma] #nesse df tá com as 3 notas do aluno\n",
    "    \n",
    "    if(df_turma_alunos_3notas['discente'].size > 0):\n",
    "        \n",
    "        df_turma_alunos_final = df_turma_alunos_3notas.drop_duplicates(subset=['discente']) #retiro 2 linhas do mesmo aluno.\n",
    "        media_final_summary = df_turma_alunos_final.describe()['media_final']\n",
    "        \n",
    "        listMean.append(media_final_summary['mean'])\n",
    "        listMin.append(media_final_summary['min'])\n",
    "        list1q.append(media_final_summary['25%'])\n",
    "        list2q.append(media_final_summary['50%'])\n",
    "        list3q.append(media_final_summary['75%'])\n",
    "        listmax.append(media_final_summary['max'])\n",
    "\n",
    "    else: #ocorre quando não encontra uma turma\n",
    "        listMean.append(0)\n",
    "        listMin.append(0)\n",
    "        list1q.append(0)\n",
    "        list2q.append(0)\n",
    "        list3q.append(0)\n",
    "        listmax.append(0)\n",
    "\n",
    "\n",
    "df_turma_professor_2017_1 = df_turma_professor_2017_1.assign(\n",
    "    disc_mean = listMean,\n",
    "    disc_min = listMin,\n",
    "    disc_q1 = list1q,\n",
    "    disc_q2 = list2q,\n",
    "    disc_q3 = list3q,\n",
    "    disc_max = listmax\n",
    "    )\n",
    "df_turma_professor_2017_1.to_csv('turma_professor_2017_1.csv', encoding='UTF-8')\n",
    "#df_turma_professor_2017_1"
   ]
  }
 ],
 "metadata": {
  "kernelspec": {
   "display_name": "Python 3",
   "language": "python",
   "name": "python3"
  },
  "language_info": {
   "codemirror_mode": {
    "name": "ipython",
    "version": 3
   },
   "file_extension": ".py",
   "mimetype": "text/x-python",
   "name": "python",
   "nbconvert_exporter": "python",
   "pygments_lexer": "ipython3",
   "version": "3.6.1"
  }
 },
 "nbformat": 4,
 "nbformat_minor": 2
}
