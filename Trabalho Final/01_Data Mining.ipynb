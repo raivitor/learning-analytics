{
 "cells": [
  {
   "cell_type": "markdown",
   "metadata": {},
   "source": [
    "Foi retirado vínculo do prof pois só tem o tipo 'Ativo Permanente'<br>\n",
    "Foi retirado jornada de trabalho pois somente 3 turmas tinham profs com 20h semanais. Todo o resto é dedicação exclusiva."
   ]
  },
  {
   "cell_type": "code",
   "execution_count": 10,
   "metadata": {
    "collapsed": true
   },
   "outputs": [],
   "source": [
    "import pandas as pd"
   ]
  },
  {
   "cell_type": "code",
   "execution_count": 11,
   "metadata": {
    "collapsed": true
   },
   "outputs": [],
   "source": [
    "#Função que insere 'vazio' no campo null. Sem isso os dataframes iram quebrar.\n",
    "def TratarDfVaziosProf(df):\n",
    "    if(df.empty):\n",
    "        df = pd.DataFrame()\n",
    "        df = df.append({'id_servidor':0, 'nome':'vazio', 'formacao':'vazio', 'tipo_jornada_trabalho':'vazio', 'vinculo':'vazio', 'classe_funcional':'vazio', 'lotacao': 'vazio'}, ignore_index=True)\n",
    "        return df\n",
    "    return df"
   ]
  },
  {
   "cell_type": "code",
   "execution_count": 12,
   "metadata": {
    "collapsed": true
   },
   "outputs": [],
   "source": [
    "pd_disc = pd.read_csv('disciplinas.csv')\n",
    "pd_docentes = pd.read_csv('docentes.csv', encoding = \"utf-8\", sep=\";\", usecols=['id_servidor', 'nome', 'formacao', 'lotacao'])\n",
    "all_turma_matriculados = pd.read_csv('all_turma_matriculados.csv', encoding = \"utf-8\", sep=\",\")"
   ]
  },
  {
   "cell_type": "code",
   "execution_count": 13,
   "metadata": {
    "collapsed": true
   },
   "outputs": [],
   "source": [
    "framesAux = []\n",
    "for index_turma, row_turma in all_turma_matriculados.iterrows():\n",
    "    pd_turmas = pd.read_csv(row_turma['csv_turma'], error_bad_lines = False, warn_bad_lines = False, encoding = \"utf-8\", sep=\";\", usecols=['id_turma', 'codigo_turma', 'id_docente_interno', 'id_componente_curricular', 'local', 'ano', 'periodo', 'descricao_horario', 'situacao_turma'])\n",
    "    framesInter = []\n",
    "    for index_pd_disc, row_pd_disc in pd_disc.iterrows():\n",
    "\n",
    "        id_disc = row_pd_disc['id_disc']\n",
    "        list_turmas = pd_turmas[pd_turmas['id_componente_curricular'] == id_disc] # filtra todas as turmas com o id da disciplina\n",
    "        list_turmas_disc = list_turmas.assign(nome_disc=row_pd_disc['nome_disc']) # add uma coluna com o nome da disciplina\n",
    "\n",
    "        listProf = []\n",
    "        for index, row in list_turmas_disc.iterrows():\n",
    "            prof = pd_docentes[pd_docentes['id_servidor'] == int(row[\"id_docente_interno\"])]\n",
    "            listProf.append(TratarDfVaziosProf(prof))\n",
    "\n",
    "        df_profs = pd.concat(listProf)\n",
    "        list_turmas_disc_prof = list_turmas_disc.assign(\n",
    "            nome_prof = df_profs['nome'].tolist(),\n",
    "            id_prof = df_profs['id_servidor'].tolist(),\n",
    "            formacao_prof = df_profs['formacao'].tolist(),\n",
    "            lotacao_prof = df_profs['lotacao'].tolist())\n",
    "        framesInter.append(list_turmas_disc_prof)\n",
    "    \n",
    "    df_turma_professorAux = pd.concat(framesInter) # concatena todos os dataframes\n",
    "    framesAux.append(df_turma_professorAux)\n",
    "    \n",
    "df_turma_professor = pd.concat(framesAux) "
   ]
  },
  {
   "cell_type": "code",
   "execution_count": 14,
   "metadata": {
    "collapsed": true
   },
   "outputs": [],
   "source": [
    "frames = []\n",
    "ano_periodo_ant = ''\n",
    "url_matriculados = ''\n",
    "pd_alunos = 0\n",
    "\n",
    "for turma in df_turma_professor['id_turma'].unique():\n",
    "    row = df_turma_professor[df_turma_professor['id_turma'] == turma].values[0]\n",
    "    ano = str(row[5])\n",
    "    periodo = str(int(row[6]))\n",
    "    ano_periodo = ano+\"_\"+periodo\n",
    "    if(ano_periodo != ano_periodo_ant): #esse if garante que só vai baixar o csv do semestre um vez e não todas as vezes no mesmo semestre\n",
    "        url_matriculados = all_turma_matriculados[all_turma_matriculados['ano_semestre'] == ano_periodo]['csv_matriculados'].values[0]\n",
    "        pd_alunos = pd.read_csv(url_matriculados, encoding = \"utf-8\", sep=\";\", usecols=['id_turma', 'discente', 'unidade', 'nota', 'reposicao', 'media_final', 'numero_total_faltas', 'descricao'])\n",
    "        ano_periodo_ant = ano_periodo\n",
    "    \n",
    "    #Todo aluno tem 3 registros de cada nota. Na linha abaixo tiro 2 registros, pois em todos fica a média final.\n",
    "    df_alunos = pd_alunos[pd_alunos['id_turma'] == int(turma)].drop_duplicates(subset=['discente'])\n",
    "    frames.append(df_alunos)\n",
    "    \n",
    "df_alunos = pd.concat(frames) # concatena todos os dataframes"
   ]
  },
  {
   "cell_type": "markdown",
   "metadata": {},
   "source": [
    "### Abaixo será retirado todos os alunos que estão nas categorias: 'EXCLUIDA', 'INDEFERIDO', 'DESISTENCIA', 'CANCELADO', 'TRANCADO'. Que dá um total de 5.821 linhas."
   ]
  },
  {
   "cell_type": "code",
   "execution_count": 15,
   "metadata": {},
   "outputs": [
    {
     "name": "stdout",
     "output_type": "stream",
     "text": [
      "APROVADO POR NOTA :  901\n",
      "APROVADO :  455\n",
      "REPROVADO POR MÉDIA E POR FALTAS :  659\n",
      "REPROVADO :  858\n",
      "REPROVADO POR NOTA :  8\n",
      "REPROVADO POR FALTAS :  2\n"
     ]
    }
   ],
   "source": [
    "remocao = ['EXCLUIDA', 'INDEFERIDO', 'DESISTENCIA', 'CANCELADO', 'TRANCADO']\n",
    "\n",
    "for descricao in remocao:\n",
    "    df_alunos = df_alunos[df_alunos['descricao'] != descricao]\n",
    "\n",
    "for descricao in df_alunos['descricao'].unique():\n",
    "    print(descricao, \": \", df_alunos[df_alunos['descricao'] == descricao]['descricao'].count())\n",
    "df_alunos.to_csv('turma_aluno.csv', encoding='UTF-8')"
   ]
  },
  {
   "cell_type": "code",
   "execution_count": 16,
   "metadata": {
    "collapsed": true
   },
   "outputs": [],
   "source": [
    "df_alunos = pd.read_csv('turma_aluno.csv')\n",
    "listTotalAlunos = []\n",
    "listAprovados = []\n",
    "listReprovados = []\n",
    "listMean = []\n",
    "listMin = []\n",
    "list1q = []\n",
    "list2q = []\n",
    "list3q = []\n",
    "listmax = []\n",
    "\n",
    "for turma in df_turma_professor['id_turma']:\n",
    "    df_turma_alunos_3notas = df_alunos[df_alunos['id_turma'] == int(turma)] #nesse df tá com as 3 notas do aluno\n",
    "\n",
    "    if(df_turma_alunos_3notas['discente'].size > 0):\n",
    "        \n",
    "        #Tem 3 linhas com 1ª, 2ª e 3º nota do aluno, eu retiro 2 linhas para o mesmo aluno não entrar na contagem\n",
    "        df_turma_alunos_final = df_turma_alunos_3notas.drop_duplicates(subset=['discente']) \n",
    "        totalAlunos = len(df_turma_alunos_final.index)\n",
    "        aprovados = len(df_turma_alunos_final[df_turma_alunos_final['media_final'] >= 5].index)\n",
    "        reprovados = totalAlunos-aprovados\n",
    "        \n",
    "        media_final_summary = df_turma_alunos_final.describe()['media_final']\n",
    "        \n",
    "        listTotalAlunos.append(totalAlunos)\n",
    "        listAprovados.append(aprovados)\n",
    "        listReprovados.append(reprovados)\n",
    "        listMean.append(format(media_final_summary['mean'], '.2f'))\n",
    "        listMin.append(media_final_summary['min'])\n",
    "        list1q.append(media_final_summary['25%'])\n",
    "        list2q.append(media_final_summary['50%'])\n",
    "        list3q.append(media_final_summary['75%'])\n",
    "        listmax.append(media_final_summary['max'])\n",
    "\n",
    "    else: #ocorre quando não encontra uma turma. Isso ocorre quando a turma foi excluida.\n",
    "        listTotalAlunos.append(0)\n",
    "        listAprovados.append(0)\n",
    "        listReprovados.append(0)\n",
    "        listMean.append(0)\n",
    "        listMin.append(0)\n",
    "        list1q.append(0)\n",
    "        list2q.append(0)\n",
    "        list3q.append(0)\n",
    "        listmax.append(0)\n",
    "\n",
    "df_turma_professor = df_turma_professor.assign(\n",
    "    total_alunos = listTotalAlunos,\n",
    "    aprovados = listAprovados,\n",
    "    reprovados = listReprovados,\n",
    "    disc_mean = listMean,\n",
    "    disc_min = listMin,\n",
    "    #disc_q1 = list1q,\n",
    "    #disc_q2 = list2q,\n",
    "    #disc_q3 = list3q,\n",
    "    disc_max = listmax\n",
    "    )"
   ]
  },
  {
   "cell_type": "code",
   "execution_count": 17,
   "metadata": {
    "collapsed": true
   },
   "outputs": [],
   "source": [
    "for index,row in df_turma_professor.iterrows():\n",
    "    df_turma_professor.loc[index,'ano_periodo'] = str(row['ano'])+\"_\"+str(int(row['periodo']))\n",
    "    m_count = row['descricao_horario'].count('M')\n",
    "    t_count = row['descricao_horario'].count('T')\n",
    "    n_count = row['descricao_horario'].count('N')\n",
    "    if(m_count > 0):\n",
    "        df_turma_professor.loc[index,'Turno'] = 'M'\n",
    "    elif(t_count > 0):\n",
    "        df_turma_professor.loc[index,'Turno'] = 'T'\n",
    "    elif(n_count > 0):\n",
    "        df_turma_professor.loc[index,'Turno'] = 'N'\n",
    "    else:\n",
    "        break\n",
    "        \n",
    "df_turma_professor = df_turma_professor[df_turma_professor['situacao_turma'] != 'EXCLUÍDA']\n",
    "df_turma_professor.to_csv('turma_professor_notas.csv', encoding='UTF-8')"
   ]
  },
  {
   "cell_type": "code",
   "execution_count": 29,
   "metadata": {
    "collapsed": true
   },
   "outputs": [],
   "source": [
    "df_alunos = pd.read_csv('turma_aluno.csv')\n",
    "df_dados = pd.read_csv('turma_professor_notas.csv')\n",
    "\n",
    "for id_turma in df_dados['id_turma'].unique():\n",
    "    nome_disc = df_dados[df_dados['id_turma'] == id_turma]['nome_disc'].values[0]\n",
    "    ano_semestre = df_dados[df_dados['id_turma'] == id_turma]['ano_periodo'].values[0]\n",
    "    for index_alunos, row_alunos in df_alunos[df_alunos['id_turma'] == id_turma].iterrows():\n",
    "        df_alunos.loc[index_alunos, 'nome_disc'] = nome_disc\n",
    "        df_alunos.loc[index_alunos, 'ano_semestre'] = ano_semestre\n",
    "        \n",
    "for index, row in pd_disc.iterrows():\n",
    "    disc = row['nome_disc']\n",
    "    aux = df_alunos[df_alunos['nome_disc'] == disc]\n",
    "    for index_aluno, row_aluno in aux.iterrows():\n",
    "        df_alunos.loc[index_aluno, 'tentativas_disc'] = aux[aux['discente'] == row_aluno['discente']]['discente'].count()\n",
    "\n",
    "df_alunos.to_csv('turma_aluno2.csv', encoding='UTF-8')    "
   ]
  }
 ],
 "metadata": {
  "kernelspec": {
   "display_name": "Python 3",
   "language": "python",
   "name": "python3"
  },
  "language_info": {
   "codemirror_mode": {
    "name": "ipython",
    "version": 3
   },
   "file_extension": ".py",
   "mimetype": "text/x-python",
   "name": "python",
   "nbconvert_exporter": "python",
   "pygments_lexer": "ipython3",
   "version": "3.6.1"
  }
 },
 "nbformat": 4,
 "nbformat_minor": 2
}
