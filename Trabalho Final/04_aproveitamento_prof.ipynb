{
 "cells": [
  {
   "cell_type": "code",
   "execution_count": 1,
   "metadata": {
    "collapsed": true
   },
   "outputs": [],
   "source": [
    "import pandas as pd"
   ]
  },
  {
   "cell_type": "code",
   "execution_count": 3,
   "metadata": {},
   "outputs": [],
   "source": [
    "pd_dados = pd.read_csv('turma_professor_notas.csv')\n",
    "pd_disciplinas = pd.read_csv('disciplinas.csv')\n",
    "pd_alunos = pd.read_csv('turma_aluno.csv')"
   ]
  },
  {
   "cell_type": "markdown",
   "metadata": {},
   "source": [
    "Taxa de sucesso dos alunos que pagaram RPM com o prof X e passaram em Cálculo 1 de primeira"
   ]
  },
  {
   "cell_type": "code",
   "execution_count": 7,
   "metadata": {},
   "outputs": [
    {
     "data": {
      "text/plain": [
       "8       1217943\n",
       "9       1217944\n",
       "17      1228369\n",
       "18      1228372\n",
       "19      1228382\n",
       "33      1239414\n",
       "34      1239414\n",
       "35      1239415\n",
       "48     57564843\n",
       "49     57564844\n",
       "50     57564844\n",
       "51     57564846\n",
       "52     57564847\n",
       "69     57576589\n",
       "70     57576589\n",
       "71     57576590\n",
       "72     57576591\n",
       "83     57586286\n",
       "84     57586287\n",
       "85     57586288\n",
       "86     57586290\n",
       "105    57597581\n",
       "106    57597582\n",
       "107    57597583\n",
       "Name: id_turma, dtype: int64"
      ]
     },
     "execution_count": 7,
     "metadata": {},
     "output_type": "execute_result"
    }
   ],
   "source": [
    "pd_dados[pd_dados['nome_disc'] == \"CÁLCULO DIFERENCIAL E INTEGRAL I\"]['id_turma']"
   ]
  },
  {
   "cell_type": "code",
   "execution_count": null,
   "metadata": {
    "collapsed": true
   },
   "outputs": [],
   "source": []
  }
 ],
 "metadata": {
  "kernelspec": {
   "display_name": "Python 3",
   "language": "python",
   "name": "python3"
  },
  "language_info": {
   "codemirror_mode": {
    "name": "ipython",
    "version": 3
   },
   "file_extension": ".py",
   "mimetype": "text/x-python",
   "name": "python",
   "nbconvert_exporter": "python",
   "pygments_lexer": "ipython3",
   "version": "3.6.1"
  }
 },
 "nbformat": 4,
 "nbformat_minor": 2
}
