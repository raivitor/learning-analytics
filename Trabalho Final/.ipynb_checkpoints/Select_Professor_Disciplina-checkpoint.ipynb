{
 "cells": [
  {
   "cell_type": "code",
   "execution_count": 6,
   "metadata": {
    "collapsed": true
   },
   "outputs": [],
   "source": [
    "from bokeh.io import output_file, show\n",
    "from bokeh.layouts import widgetbox\n",
    "from bokeh.models.widgets import Select\n"
   ]
  },
  {
   "cell_type": "code",
   "execution_count": 11,
   "metadata": {
    "collapsed": true
   },
   "outputs": [],
   "source": [
    "output_file(\"select.html\")\n",
    "select = Select(title=\"Professores:\",value=\"foo\", options=sorted(['CHARLES ANDRYE GALVAO MADEIRA', 'ANDERSON PAIVA CRUZ', \"SAMYR SILVA BEZERRA JACOME\", \"CARLOS AUGUSTO PROLO\",'REGIVAN HUGO NUNES SANTIAGO','ADJA FERREIRA DE ANDRADE','RAFAELA HORACINA SILVA ROCHA SOARES','LOURENA KARIN DE MEDEIROS ROCHA','CARLOS AUGUSTO PROLO','ANTONIO IGOR SILVA DE OLIVEIRA','UMBERTO RIVIECCIO','ATHANASIOS TSOUANAS','ALYSON MATHEUS DE CARVALHO SOUZA']))\n",
    "select2 = Select(title='Disciplinas:',value='CÁLCULO DIFERENCIAL E INTEGRAL I', options=sorted(['CÁLCULO DIFERENCIAL E INTEGRAL I','FUNDAMENTOS MATEMÁTICOS DA COMPUTAÇÃO I','FUNDAMENTOS MATEMÁTICOS DA COMPUTAÇÃO II','RESOLUÇÃO DE PROBLEMAS MATEMÁTICOS PARA TI']))\n",
    "show(widgetbox(select,select2))\n"
   ]
  },
  {
   "cell_type": "code",
   "execution_count": null,
   "metadata": {
    "collapsed": true
   },
   "outputs": [],
   "source": []
  }
 ],
 "metadata": {
  "kernelspec": {
   "display_name": "Python 3",
   "language": "python",
   "name": "python3"
  },
  "language_info": {
   "codemirror_mode": {
    "name": "ipython",
    "version": 3
   },
   "file_extension": ".py",
   "mimetype": "text/x-python",
   "name": "python",
   "nbconvert_exporter": "python",
   "pygments_lexer": "ipython3",
   "version": "3.6.3"
  }
 },
 "nbformat": 4,
 "nbformat_minor": 2
}
