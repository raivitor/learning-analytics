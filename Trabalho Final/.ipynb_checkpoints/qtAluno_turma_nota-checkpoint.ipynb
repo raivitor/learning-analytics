{
 "cells": [
  {
   "cell_type": "code",
   "execution_count": 232,
   "metadata": {},
   "outputs": [],
   "source": [
    "import pandas as pd\n",
    "import numpy as np\n",
    "import matplotlib.pyplot as plt\n",
    "\n"
   ]
  },
  {
   "cell_type": "code",
   "execution_count": 190,
   "metadata": {
    "collapsed": true
   },
   "outputs": [],
   "source": [
    "pd_dados = pd.read_csv('turma_professor_notas.csv')\n",
    "pd_disciplinas = pd.read_csv('disciplinas.csv')"
   ]
  },
  {
   "cell_type": "code",
   "execution_count": 236,
   "metadata": {},
   "outputs": [
    {
     "data": {
      "image/png": "[encoded data removed]",
      "text/plain": [
       "<matplotlib.figure.Figure at 0x7f892c5b2d68>"
      ]
     },
     "metadata": {},
     "output_type": "display_data"
    }
   ],
   "source": [
    "dt_p141 = pd_dados.loc[pd_dados['ano_periodo'] >= '2014.1']\n",
    "dt_p141 = dt_p141.copy()\n",
    "dt_frame = dt_p141[['id_componente_curricular','disc_mean','total_alunos','ano_periodo']]\n",
    "dt_frame = dt_frame.copy()\n",
    "\n",
    "#Trocar o nome do id_disc pelo nome real da disciplina\n",
    "dt_frame.loc[dt_frame['id_componente_curricular'] == 55031.0,'id_componente_curricular'] = 'RESOLUÇÃO DE PROBLEMAS MATEMÁTICOS PARA TI'\n",
    "dt_frame.loc[dt_frame['id_componente_curricular'] == 55022.0,'id_componente_curricular'] = 'FUNDAMENTOS MATEMÁTICOS DA COMPUTAÇÃO I'\n",
    "dt_frame.loc[dt_frame['id_componente_curricular'] == 52662.0,'id_componente_curricular'] = 'CÁLCULO DIFERENCIAL E INTEGRAL I'\n",
    "dt_frame.loc[dt_frame['id_componente_curricular'] == 55025.0,'id_componente_curricular'] = 'FUNDAMENTOS MATEMÁTICOS DA COMPUTAÇÃO II'\n",
    "#dt_p141.to_csv('frame.csv',sep='\\t') \n",
    "\n",
    "#pd_dados.sort_values(['total_alunos','disc_mean'], ascending=[False,True])\n",
    "pd_dados = pd_dados.sort_values(['id_componente_curricular','total_alunos'], ascending=[False,True])\n",
    "#pd_dados.to_csv('dt_dados.csv')\n",
    "\n",
    "df_date = pd.read_csv('dt_dados.csv')\n",
    "\n",
    "#Filtrar tabela csv para pegar cada disciplina\n",
    "dt_rpmti = df_date.loc[df_date['id_componente_curricular'] == 'RESOLUÇÃO DE PROBLEMAS MATEMÁTICOS PARA TI']\n",
    "dt_fmc2  = df_date.loc[df_date['id_componente_curricular'] == 'FUNDAMENTOS MATEMÁTICOS DA COMPUTAÇÃO II']\n",
    "dt_fmc1 = df_date.loc[df_date['id_componente_curricular'] == 'FUNDAMENTOS MATEMÁTICOS DA COMPUTAÇÃO I']\n",
    "dt_cal = df_date.loc[df_date['id_componente_curricular'] == 'CÁLCULO DIFERENCIAL E INTEGRAL I']\n",
    "\n",
    "\n",
    "#Ordenando cada disciplina pelo total_alunos\n",
    "dt_rpmti.sort_values(['total_alunos','disc_mean'], ascending=[False,True])\n",
    "dt_fmc2.sort_values(['total_alunos','disc_mean'], ascending=[False,True])\n",
    "dt_fmc1.sort_values(['total_alunos','disc_mean'], ascending=[False,True])\n",
    "dt_cal.sort_values(['total_alunos','disc_mean'], ascending=[False,True])\n",
    "\n",
    "#Plotagem dos dados de cada disciplina disc_mean x turma_alunos\n",
    "\n",
    "\n",
    "dt_rpmti.plot(x = 'disc_mean' , y = 'total_alunos', kind=\"bar\" , color=\"C2\")\n",
    "plt.title('RESOLUÇÃO DE PROBLEMAS MATEMÁTICOS PARA TI')\n",
    "plt.xlabel('Número de alunos')\n",
    "plt.ylabel('Média da turma')\n",
    "plt.show()\n",
    "\n",
    "\n",
    "\n",
    "\n"
   ]
  },
  {
   "cell_type": "code",
   "execution_count": null,
   "metadata": {
    "collapsed": true
   },
   "outputs": [],
   "source": []
  }
 ],
 "metadata": {
  "kernelspec": {
   "display_name": "Python 3",
   "language": "python",
   "name": "python3"
  },
  "language_info": {
   "codemirror_mode": {
    "name": "ipython",
    "version": 3
   },
   "file_extension": ".py",
   "mimetype": "text/x-python",
   "name": "python",
   "nbconvert_exporter": "python",
   "pygments_lexer": "ipython3",
   "version": "3.6.3"
  }
 },
 "nbformat": 4,
 "nbformat_minor": 2
}
